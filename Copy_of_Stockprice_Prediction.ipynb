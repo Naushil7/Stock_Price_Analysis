{
  "cells": [
    {
      "cell_type": "code",
      "execution_count": null,
      "metadata": {
        "id": "OzL00ru0HR0z"
      },
      "outputs": [],
      "source": [
        "from google.colab import drive\n",
        "drive.mount('/content/drive')"
      ]
    },
    {
      "cell_type": "code",
      "execution_count": null,
      "metadata": {
        "id": "9-601ekvSW7L"
      },
      "outputs": [],
      "source": [
        "import pandas as pd\n",
        "import numpy as np\n",
        "import seaborn as sns\n",
        "import matplotlib.pyplot as plt\n",
        "\n",
        "df = pd.read_csv(\"/content/drive/MyDrive/8_project/Updated_NIFTY_2.2.csv\")\n",
        "# df.tail(10)"
      ]
    },
    {
      "cell_type": "code",
      "execution_count": null,
      "metadata": {
        "id": "w5fMjuDON28X"
      },
      "outputs": [],
      "source": [
        "df.isnull().sum()"
      ]
    },
    {
      "cell_type": "code",
      "execution_count": null,
      "metadata": {
        "id": "bIEg7ZkxPMPO"
      },
      "outputs": [],
      "source": [
        "from pandas import read_csv\n",
        "# from matplotlib import pyplot\n",
        "# series = read_csv('/content/drive/MyDrive/8_project/Updated_NIFTY_2.0.csv', header=0, index_col=0, parse_dates=True, squeeze=True)\n",
        "# series.plot(style='k.')\n",
        "# pyplot.show()"
      ]
    },
    {
      "cell_type": "code",
      "execution_count": null,
      "metadata": {
        "id": "PPlUKp8cSC_t"
      },
      "outputs": [],
      "source": [
        "import plotly.graph_objects as go\n",
        "# oc = ['open','close']\n",
        "fig = go.Figure([go.Scatter(x=df['date'], y=df['open'])])\n",
        "fig.show()"
      ]
    },
    {
      "cell_type": "code",
      "execution_count": null,
      "metadata": {
        "id": "B4WoWn3yehJO"
      },
      "outputs": [],
      "source": [
        "# df[[\"day\", \"month\", \"year\"]] = df[\"date\"].str.split(\"-\", expand = True)\n",
        "# print(df)"
      ]
    },
    {
      "cell_type": "code",
      "execution_count": null,
      "metadata": {
        "id": "xYbxsC1EkTLJ"
      },
      "outputs": [],
      "source": [
        "# df.to_csv(\"/content/drive/MyDrive/8_project/Updated_NIFTY.csv\",index=False)"
      ]
    },
    {
      "cell_type": "markdown",
      "metadata": {
        "id": "pbnlwUS-PMbk"
      },
      "source": [
        "## **Grouping Months and checking count**"
      ]
    },
    {
      "cell_type": "code",
      "execution_count": null,
      "metadata": {
        "id": "gFeeOjQsLyrr"
      },
      "outputs": [],
      "source": [
        "df_m = df.groupby(\"month\").count()\n",
        "df_m"
      ]
    },
    {
      "cell_type": "code",
      "execution_count": null,
      "metadata": {
        "id": "oF3E577jpg5S"
      },
      "outputs": [],
      "source": [
        "df['slot']"
      ]
    },
    {
      "cell_type": "code",
      "execution_count": null,
      "metadata": {
        "id": "jWeKA6awgtcR"
      },
      "outputs": [],
      "source": [
        "df['direction status'] = np.where(df['close']>df['open'], '1', '0')"
      ]
    },
    {
      "cell_type": "code",
      "execution_count": null,
      "metadata": {
        "id": "1uBrYfYeg-vL"
      },
      "outputs": [],
      "source": [
        "df.head(10)"
      ]
    },
    {
      "cell_type": "markdown",
      "metadata": {
        "id": "5UIclUsZb6bq"
      },
      "source": [
        "## **Conversion of Slot to specific labels**"
      ]
    },
    {
      "cell_type": "code",
      "execution_count": null,
      "metadata": {
        "id": "bUsusluyqIOV"
      },
      "outputs": [],
      "source": [
        "df['slot'].unique()"
      ]
    },
    {
      "cell_type": "code",
      "execution_count": null,
      "metadata": {
        "id": "m19fhefZWGMJ"
      },
      "outputs": [],
      "source": [
        "from sklearn import preprocessing\n",
        "label_encoder = preprocessing.LabelEncoder()\n",
        "df['slot_label']= label_encoder.fit_transform(df['slot'])"
      ]
    },
    {
      "cell_type": "code",
      "execution_count": null,
      "metadata": {
        "id": "LCeP87TCv8rY"
      },
      "outputs": [],
      "source": [
        "df['slot_label'].unique()"
      ]
    },
    {
      "cell_type": "code",
      "execution_count": null,
      "metadata": {
        "id": "1cDvxBMcsaGG"
      },
      "outputs": [],
      "source": [
        "df[['slot_label','slot']].head(38)"
      ]
    },
    {
      "cell_type": "code",
      "execution_count": null,
      "metadata": {
        "id": "T5S1lo-mxQou"
      },
      "outputs": [],
      "source": [
        "df['slot_label'] = df['slot_label'] + 1"
      ]
    },
    {
      "cell_type": "code",
      "execution_count": null,
      "metadata": {
        "id": "HRuhZMdqykwV"
      },
      "outputs": [],
      "source": [
        "df['slot_label']"
      ]
    },
    {
      "cell_type": "markdown",
      "metadata": {
        "id": "MK-U-kble9Dn"
      },
      "source": [
        "## **Main Query for Filtering of Data**\n"
      ]
    },
    {
      "cell_type": "code",
      "execution_count": null,
      "metadata": {
        "id": "Ss5-3njbO7k7"
      },
      "outputs": [],
      "source": [
        "# y = int(input(\"Enter year in number: \"))\n",
        "# m = int(input(\"Enter month in number: \"))\n",
        "# d = int(input(\"Enter day in number: \"))\n",
        "# w = (input(\"Enter weekday in number: \"))\n",
        "# s = int(input(\"Enter slot: \"))\n",
        "# dfq_d = df.query('month == @m & day == @d & slot_label == @s')\n",
        "# dfq_w = df.query('month == @m & year == @y & weekday == @w & slot_label == @s')\n",
        "# dfq_m = df.query('month == @m & year == @y & slot_label == @s')"
      ]
    },
    {
      "cell_type": "code",
      "execution_count": null,
      "metadata": {
        "id": "Xx-u8CuY43lr"
      },
      "outputs": [],
      "source": [
        "# def timeslot(d,w,m,s,y):\n",
        "#   if(d==None):\n",
        "#     print('no selection')\n",
        "#   elif(w==None):\n",
        "#     df.query('month == @m & day == @d & slot_label == @s')\n",
        "#     print(df.query)"
      ]
    },
    {
      "cell_type": "code",
      "execution_count": null,
      "metadata": {
        "id": "kYeJY0tZ3WLr"
      },
      "outputs": [],
      "source": [
        "def avgday(d,m,y,s):\n",
        "  if(s==0):\n",
        "    dfq_d = df.query('month == @m & day == @d & year == @y')\n",
        "  elif(y==0):\n",
        "    dfq_d = df.query('month == @m & day == @d & slot_label == @s')\n",
        "  else:\n",
        "    dfq_d = df.query('month == @m & day == @d & year == @y & slot_label == @s')\n",
        "  return dfq_d\n",
        "\n",
        "def avgweekday(w,m,y,s):\n",
        "  if(m==0 and y==0 and s==0):\n",
        "    dfq_w = df.query('weekday == @w')\n",
        "  elif(y==0 and s==0):  \n",
        "    dfq_w = df.query('month == @m & weekday == @w')\n",
        "  elif(s==0):  \n",
        "    dfq_w = df.query('month == @m & weekday == @w & year == @y')\n",
        "  else:\n",
        "    dfq_w = df.query('month == @m & weekday == @w & year == @y & slot_label == @s')\n",
        "  return dfq_w\n",
        "\n",
        "def avgmonth(m,y,s):\n",
        "  if(y==0 and s==0):\n",
        "    dfq_m = df.query('month == @m')\n",
        "  elif(s==0):\n",
        "    dfq_m = df.query('month == @m & year == @y')\n",
        "  else:\n",
        "    dfq_m = df.query('month == @m & year == @y & slot_label == @s')\n",
        "  return dfq_m"
      ]
    },
    {
      "cell_type": "code",
      "execution_count": null,
      "metadata": {
        "id": "N91NrMADHYhB"
      },
      "outputs": [],
      "source": [
        "def avgday2(d,m,y,s):\n",
        "  if(s==0):\n",
        "    dfq_d = df.query('month == @m & day == @d & year == @y')\n",
        "  else:\n",
        "    dfq_d = df.query('month == @m & day == @d & year == @y & slot_label == @s')\n",
        "  return dfq_d"
      ]
    },
    {
      "cell_type": "markdown",
      "metadata": {
        "id": "gQGACVP2JSd8"
      },
      "source": [
        "## **Averages and other Stats**"
      ]
    },
    {
      "cell_type": "code",
      "execution_count": null,
      "metadata": {
        "id": "VeLC9E3SG3V6"
      },
      "outputs": [],
      "source": [
        "def day_mean():\n",
        "  d = int(input(\"\\nEnter day in number: \"))\n",
        "  m = int(input(\"Enter month in number: \"))  \n",
        "  y = int(input(\"Enter year in number: \"))\n",
        "  s = int(input(\"Enter slot: \"))\n",
        "  return pd.DataFrame(avgday(d,m,y,s).filter(['open-close change(%)','peak-loss volatility(%)']).mean(),columns=['Mean'])\n",
        "\n",
        "#day_mean()"
      ]
    },
    {
      "cell_type": "code",
      "execution_count": null,
      "metadata": {
        "id": "BZFa3V_32tyz"
      },
      "outputs": [],
      "source": [
        "def week_mean():\n",
        "  w = input(\"\\nEnter week in number: \")\n",
        "  m = int(input(\"Enter month in number: \"))  \n",
        "  y = int(input(\"Enter year in number: \"))\n",
        "  s = int(input(\"Enter slot: \"))\n",
        "  return pd.DataFrame(avgweekday(w,m,y,s).filter(['open-close change(%)','peak-loss volatility(%)']).mean(),columns=['Mean'])\n",
        "\n",
        "#week_mean()"
      ]
    },
    {
      "cell_type": "code",
      "execution_count": null,
      "metadata": {
        "id": "TzI9EWUQJ780"
      },
      "outputs": [],
      "source": [
        "def month_mean():\n",
        "  m = int(input(\"\\nEnter month in number: \"))  \n",
        "  y = int(input(\"Enter year in number: \"))\n",
        "  s = int(input(\"Enter slot: \"))\n",
        "  return pd.DataFrame(avgmonth(m,y,s).filter(['open-close change(%)','peak-loss volatility(%)']).mean(),columns=['Mean'])\n",
        "\n",
        "#month_mean()"
      ]
    },
    {
      "cell_type": "code",
      "execution_count": null,
      "metadata": {
        "id": "v3m86Vl23XNJ"
      },
      "outputs": [],
      "source": [
        "def mainmenu():\n",
        "  print(\"Select Your Option\")\n",
        "  print(\"1. Average Day\")\n",
        "  print(\"2. Average Week Day\")\n",
        "  print(\"3. Average Month\")\n",
        "  print(\"4. Exit\")\n",
        "  selection= int(input(\"Enter Choice:\"))\n",
        "  if selection==1:\n",
        "    return day_mean()\n",
        "  elif selection==2:\n",
        "    return week_mean()\n",
        "  elif selection==3:\n",
        "    return month_mean()\n",
        "  elif selection==4:\n",
        "    exit\n",
        "  else:\n",
        "    print(\"Invalid Choice. Please enter your choice again.\")\n",
        "    mainmenu()\n",
        "  \n",
        "\n",
        "# mainmenu()"
      ]
    },
    {
      "cell_type": "code",
      "execution_count": null,
      "metadata": {
        "id": "T9QVw8e6Hm8T"
      },
      "outputs": [],
      "source": [
        "avgday(15,6,2020,0).filter(['open-close change(%)','peak-loss volatility(%)']).mean()"
      ]
    },
    {
      "cell_type": "code",
      "execution_count": null,
      "metadata": {
        "id": "LysVLwf9EgY2"
      },
      "outputs": [],
      "source": [
        "avgweekday(\"Monday\",1,2020,0).filter(['open-close change(%)','peak-loss volatility(%)']).mean()"
      ]
    },
    {
      "cell_type": "code",
      "execution_count": null,
      "metadata": {
        "id": "cX9bQUATEmAh"
      },
      "outputs": [],
      "source": [
        "avgmonth(12,2018,0).filter(['open-close change(%)','peak-loss volatility(%)']).mean()"
      ]
    },
    {
      "cell_type": "markdown",
      "metadata": {
        "id": "YS4NRl4zeeT3"
      },
      "source": [
        "## **Statistics Function**"
      ]
    },
    {
      "cell_type": "code",
      "execution_count": null,
      "metadata": {
        "id": "WH8LEJJ3zkBU"
      },
      "outputs": [],
      "source": [
        "oc_mean_d = pd.DataFrame(avgday(15,6,2020,0).filter(['open-close change(%)','peak-loss volatility(%)']).mean(),columns=['mean'])\n",
        "oc_max_d = pd.DataFrame(avgday(15,6,2020,0).filter(['open-close change(%)','peak-loss volatility(%)']).max(),columns=['max'])\n",
        "oc_min_d = pd.DataFrame(avgday(15,6,2020,0).filter(['open-close change(%)','peak-loss volatility(%)']).min(),columns=['min'])\n",
        "oc_variance_d = pd.DataFrame(avgday(15,6,2020,0).filter(['open-close change(%)','peak-loss volatility(%)']).var(),columns=['variance'])"
      ]
    },
    {
      "cell_type": "code",
      "execution_count": null,
      "metadata": {
        "id": "b05NO2Ea8nDv"
      },
      "outputs": [],
      "source": [
        "oc_stats = oc_mean_d.join(oc_max_d['max'])\n",
        "oc_stats_1 = oc_stats.join(oc_min_d['min'])\n",
        "oc_stats_2 = oc_stats_1.join(oc_variance_d['variance'])"
      ]
    },
    {
      "cell_type": "code",
      "execution_count": null,
      "metadata": {
        "id": "wXmYMyjo8qxF"
      },
      "outputs": [],
      "source": [
        "oc_stats_2"
      ]
    },
    {
      "cell_type": "code",
      "execution_count": null,
      "metadata": {
        "id": "KTTK1PCAFUj8"
      },
      "outputs": [],
      "source": [
        "def day1():\n",
        "  d = int(input(\"\\nEnter day in number: \"))\n",
        "  m = int(input(\"Enter month in number: \"))  \n",
        "  y = int(input(\"Enter year in number: \"))\n",
        "  s = int(input(\"Enter slot: \"))\n",
        "  return avgday(d,m,y,s)\n",
        "\n",
        "#day_mean()"
      ]
    },
    {
      "cell_type": "code",
      "execution_count": null,
      "metadata": {
        "id": "c7VfFIzpGOtu"
      },
      "outputs": [],
      "source": [
        "def week1():\n",
        "  w = input(\"\\nEnter weekday: \")\n",
        "  m = int(input(\"Enter month in number: \"))  \n",
        "  y = int(input(\"Enter year in number: \"))\n",
        "  s = int(input(\"Enter slot: \"))\n",
        "  return avgweekday(w,m,y,s)\n",
        "#week_mean()"
      ]
    },
    {
      "cell_type": "code",
      "execution_count": null,
      "metadata": {
        "id": "Vxor9sWOGUYa"
      },
      "outputs": [],
      "source": [
        "def month1():\n",
        "  m = int(input(\"\\nEnter month in number: \"))  \n",
        "  y = int(input(\"Enter year in number: \"))\n",
        "  s = int(input(\"Enter slot: \"))\n",
        "  return avgmonth(m,y,s)\n",
        "#month_mean()"
      ]
    },
    {
      "cell_type": "code",
      "execution_count": null,
      "metadata": {
        "id": "efuNo-zyFrZA"
      },
      "outputs": [],
      "source": [
        "def statd():\n",
        "  selec_d = day1() \n",
        "  oc_mean_d1 = pd.DataFrame(selec_d.filter(['open-close change(%)','peak-loss volatility(%)']).mean(),columns=['mean'])\n",
        "  oc_max_d1 = pd.DataFrame(selec_d.filter(['open-close change(%)','peak-loss volatility(%)']).max(),columns=['max'])\n",
        "  oc_min_d1 = pd.DataFrame(selec_d.filter(['open-close change(%)','peak-loss volatility(%)']).min(),columns=['min'])\n",
        "  oc_variance_d1 = pd.DataFrame(selec_d.filter(['open-close change(%)','peak-loss volatility(%)']).var(),columns=['variance'])\n",
        "\n",
        "  oc_stat_d_1 = oc_mean_d1.join(oc_max_d1['max'])\n",
        "  oc_stat_d_2 = oc_stat_d_1.join(oc_min_d1['min'])\n",
        "  oc_stat_d_3 = oc_stat_d_2.join(oc_variance_d1['variance'])\n",
        "\n",
        "  return oc_stat_d_3"
      ]
    },
    {
      "cell_type": "code",
      "execution_count": null,
      "metadata": {
        "id": "pbTaL2DYIDyT"
      },
      "outputs": [],
      "source": [
        "def statw():\n",
        "  selec_w = week1() \n",
        "  oc_mean_w1 = pd.DataFrame(selec_w.filter(['open-close change(%)','peak-loss volatility(%)']).mean(),columns=['mean'])\n",
        "  oc_max_w1 = pd.DataFrame(selec_w.filter(['open-close change(%)','peak-loss volatility(%)']).max(),columns=['max'])\n",
        "  oc_min_w1 = pd.DataFrame(selec_w.filter(['open-close change(%)','peak-loss volatility(%)']).min(),columns=['min'])\n",
        "  oc_variance_w1 = pd.DataFrame(selec_w.filter(['open-close change(%)','peak-loss volatility(%)']).var(),columns=['variance'])\n",
        "\n",
        "  oc_stat_w_1 = oc_mean_w1.join(oc_max_w1['max'])\n",
        "  oc_stat_w_2 = oc_stat_w_1.join(oc_min_w1['min'])\n",
        "  oc_stat_w_3 = oc_stat_w_2.join(oc_variance_w1['variance'])\n",
        "\n",
        "  return oc_stat_w_3"
      ]
    },
    {
      "cell_type": "code",
      "execution_count": null,
      "metadata": {
        "id": "0Xol_XEqIFyN"
      },
      "outputs": [],
      "source": [
        "def statm():\n",
        "  selec_m = month1() \n",
        "  oc_mean_m1 = pd.DataFrame(selec_m.filter(['open-close change(%)','peak-loss volatility(%)']).mean(),columns=['mean'])\n",
        "  oc_max_m1 = pd.DataFrame(selec_m.filter(['open-close change(%)','peak-loss volatility(%)']).max(),columns=['max'])\n",
        "  oc_min_m1 = pd.DataFrame(selec_m.filter(['open-close change(%)','peak-loss volatility(%)']).min(),columns=['min'])\n",
        "  oc_variance_m1 = pd.DataFrame(selec_m.filter(['open-close change(%)','peak-loss volatility(%)']).var(),columns=['variance'])\n",
        "\n",
        "  oc_stat_m_1 = oc_mean_m1.join(oc_max_m1['max'])\n",
        "  oc_stat_m_2 = oc_stat_m_1.join(oc_min_m1['min'])\n",
        "  oc_stat_m_3 = oc_stat_m_2.join(oc_variance_m1['variance'])\n",
        "\n",
        "  oc_stat_m_3\n",
        "\n",
        "  return oc_stat_m_3"
      ]
    },
    {
      "cell_type": "code",
      "execution_count": null,
      "metadata": {
        "id": "o5rxkIet-oC7"
      },
      "outputs": [],
      "source": [
        "def mainmenu2():\n",
        "  print(\"Select Your Option\")\n",
        "  print(\"1. Statistics For Day\")\n",
        "  print(\"2. Statistics For Week Day\")\n",
        "  print(\"3. Statistics For Month\")\n",
        "  print(\"4. Exit\\n\")\n",
        "  selection= int(input(\"Enter Choice:\"))\n",
        "  if selection==1:\n",
        "    return statd()\n",
        "  elif selection==2:\n",
        "    return statw()\n",
        "  elif selection==3:\n",
        "    return statm()\n",
        "  elif selection==4:\n",
        "    exit\n",
        "  else:\n",
        "    print(\"Invalid Choice. Please enter your choice again.\")\n",
        "    mainmenu2()\n",
        "  \n",
        "mainmenu2()"
      ]
    },
    {
      "cell_type": "code",
      "execution_count": null,
      "metadata": {
        "id": "ed2xoKNnkV7P"
      },
      "outputs": [],
      "source": [
        "# from scipy.stats import hmean, gmean\n",
        "# x = avgmonth(12,0,0).filter(['open-close change(%)','peak-loss volatility(%)'])\n",
        "# hmean(x)\n",
        "# gmean(x)"
      ]
    },
    {
      "cell_type": "code",
      "execution_count": null,
      "metadata": {
        "id": "N2-Lm77ouUJO"
      },
      "outputs": [],
      "source": [
        "sixmonths = df.loc[61479:66456,['high','low','open','close']]\n",
        "# sixmonths.head(10)"
      ]
    },
    {
      "cell_type": "code",
      "execution_count": null,
      "metadata": {
        "id": "vrdRoKVfwM-8"
      },
      "outputs": [],
      "source": [
        "sixmonths.reset_index(inplace = True, drop = True)\n",
        "sixmonths"
      ]
    },
    {
      "cell_type": "markdown",
      "metadata": {
        "id": "LGFucos8xoh9"
      },
      "source": [
        "## Visualiztion"
      ]
    },
    {
      "cell_type": "code",
      "execution_count": null,
      "metadata": {
        "id": "cw8COXBD6URJ"
      },
      "outputs": [],
      "source": [
        "import plotly.graph_objs as go\n",
        "import pandas as pd\n",
        "\n",
        "data = pd.read_csv('/content/drive/MyDrive/8_project/Updated_NIFTY_2.2.csv')\n",
        "\n",
        "trace = go.Candlestick(x=data['date'], open=data['open'], high=data['high'], low=data['low'], close=data['close'])\n",
        "\n",
        "layout = go.Layout(title='Stock Price over Time', xaxis={'title':'Date'}, yaxis={'title':'Stock Price'})\n",
        "fig = go.Figure(data=[trace], layout=layout)\n",
        "fig.show()"
      ]
    },
    {
      "cell_type": "code",
      "execution_count": null,
      "metadata": {
        "colab": {
          "background_save": true
        },
        "id": "sAiqFQYldG1y"
      },
      "outputs": [],
      "source": [
        "import plotly.graph_objs as go\n",
        "import pandas as pd\n",
        "\n",
        "data = pd.read_csv('/content/drive/MyDrive/8_project/Updated_NIFTY_2.2.csv')\n",
        "data['unique-id'] = df['date'] + \";\" + df['slot']\n",
        "data['unique-id']\n",
        "\n",
        "trace1 = go.Scatter(x=data['unique-id'], y=data['open'], name='open')\n",
        "trace2 = go.Scatter(x=data['unique-id'], y=data['close'], name='close')\n",
        "trace3 = go.Scatter(x=data['unique-id'], y=data['high'], name='high')\n",
        "trace4 = go.Scatter(x=data['unique-id'], y=data['low'], name='low')\n",
        "\n",
        "layout = go.Layout(title='Stock Price over Time', xaxis={'title':'Date'}, yaxis={'title':'Stock Price'})\n",
        "fig = go.Figure(data=[trace1, trace2, trace3, trace4], layout=layout)\n",
        "fig.show()"
      ]
    },
    {
      "cell_type": "code",
      "execution_count": null,
      "metadata": {
        "id": "ZVK13FNQqKPV"
      },
      "outputs": [],
      "source": [
        "from datetime import datetime\n",
        "df['date'] = pd.to_datetime(df['date'])"
      ]
    },
    {
      "cell_type": "code",
      "execution_count": null,
      "metadata": {
        "id": "EPZJ-gps5B26"
      },
      "outputs": [],
      "source": [
        "data"
      ]
    },
    {
      "cell_type": "code",
      "execution_count": null,
      "metadata": {
        "id": "hY73k6gzgq0H"
      },
      "outputs": [],
      "source": [
        "import plotly.graph_objs as go\n",
        "import pandas as pd\n",
        "\n",
        "# Convert date column to datetime and set it as the index\n",
        "data['date'] = pd.to_datetime(data['date'], format='%d-%m-%Y')\n",
        "data.set_index('date', inplace=True)\n",
        "\n",
        "start_date = input(\"Enter the start date (dd-mm-yyyy): \")\n",
        "end_date = input(\"Enter the end date (dd-mm-yyyy): \")\n",
        "\n",
        "start_date = datetime.strptime(start_date, '%d-%m-%Y')\n",
        "end_date = datetime.strptime(end_date, '%d-%m-%Y')\n",
        "\n",
        "# Filter data based on user input\n",
        "data = data.loc[start_date:end_date]\n",
        "\n",
        "# Create traces for each stock price\n",
        "trace1 = go.Scatter(x=data.index, y=data['open'], name='open')\n",
        "trace2 = go.Scatter(x=data.index, y=data['close'], name='close')\n",
        "trace3 = go.Scatter(x=data.index, y=data['high'], name='high')\n",
        "trace4 = go.Scatter(x=data.index, y=data['low'], name='low')\n",
        "\n",
        "layout = go.Layout(title='Stock Price over Time', xaxis={'title':'date'}, yaxis={'title':'Stock Price'})\n",
        "fig = go.Figure(data=[trace1, trace2, trace3, trace4], layout=layout)\n",
        "fig.show()"
      ]
    },
    {
      "cell_type": "code",
      "execution_count": null,
      "metadata": {
        "id": "iXoB9dme4rY3"
      },
      "outputs": [],
      "source": [
        "data"
      ]
    },
    {
      "cell_type": "code",
      "execution_count": null,
      "metadata": {
        "id": "UlWduQKa1Xs1"
      },
      "outputs": [],
      "source": [
        "import plotly.graph_objs as go\n",
        "import pandas as pd\n",
        "import numpy as np\n",
        "import plotly.graph_objs as go\n",
        "\n",
        "data['30_SMA'] = data['close'].rolling(window = 30, min_periods = 1).mean()\n",
        "data['20_EMA'] = data['close'].ewm(span=20,adjust=False).mean()\n",
        "\n",
        "# Calculate the DEMA\n",
        "data[\"20_DEMA\"] = 2 * data[\"20_EMA\"] - data[\"20_EMA\"].ewm(span=20, adjust=False).mean()\n",
        "\n",
        "start_date1 = input(\"Enter the start date (dd-mm-yyyy): \")\n",
        "end_date1 = input(\"Enter the end date (dd-mm-yyyy): \")\n",
        "\n",
        "start_date1 = datetime.strptime(start_date1, '%d-%m-%Y')\n",
        "end_date1 = datetime.strptime(end_date1, '%d-%m-%Y')\n",
        "\n",
        "# Filter data based on user input\n",
        "data = data.loc[start_date1:end_date1]\n",
        "\n",
        "# Create traces for each stock price\n",
        "trace1 = go.Scatter(x=data.index, y=data['close'], name='close')\n",
        "trace2 = go.Scatter(x=data.index, y=data['30_SMA'], name='SMA OF 30 Days')\n",
        "trace3 = go.Scatter(x=data.index, y=data['20_EMA'], name='EMA OF 20 Days')\n",
        "trace4 = go.Scatter(x=data.index, y=data['20_DEMA'], name='DEMA OF 20 Days')\n",
        "\n",
        "layout = go.Layout(title='Stock Price over Time', xaxis={'title':'date'}, yaxis={'title':'Stock Price'})\n",
        "fig = go.Figure(data=[trace1, trace2, trace3, trace4], layout=layout)\n",
        "fig.show()"
      ]
    },
    {
      "cell_type": "code",
      "execution_count": null,
      "metadata": {
        "id": "ktoltpVhC3nb"
      },
      "outputs": [],
      "source": [
        "data.head()"
      ]
    },
    {
      "cell_type": "code",
      "execution_count": null,
      "metadata": {
        "id": "lTgmP2ya5FQF"
      },
      "outputs": [],
      "source": [
        "data['30_SMA']"
      ]
    },
    {
      "cell_type": "code",
      "execution_count": null,
      "metadata": {
        "id": "1XSgzSF3QtCK"
      },
      "outputs": [],
      "source": []
    },
    {
      "cell_type": "code",
      "execution_count": null,
      "metadata": {
        "id": "dZJzSus-Q1Su"
      },
      "outputs": [],
      "source": []
    }
  ],
  "metadata": {
    "accelerator": "GPU",
    "colab": {
      "collapsed_sections": [
        "gQGACVP2JSd8"
      ],
      "provenance": []
    },
    "gpuClass": "standard",
    "kernelspec": {
      "display_name": "Python 3",
      "name": "python3"
    },
    "language_info": {
      "name": "python"
    }
  },
  "nbformat": 4,
  "nbformat_minor": 0
}